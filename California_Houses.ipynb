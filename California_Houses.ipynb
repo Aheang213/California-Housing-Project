{
 "cells": [
  {
   "cell_type": "markdown",
   "id": "1a1bf70d",
   "metadata": {},
   "source": [
    "# California Housing Project\n"
   ]
  },
  {
   "cell_type": "markdown",
   "id": "af5167f5",
   "metadata": {},
   "source": [
    "The purpose of this project is to find the median house value in relation to the distance of certain metropolitan such as San Diego, San Francisco, San Jose and Los Angeles.\n",
    "\n",
    "This project will also demonstrate median household income, median age of the house, and "
   ]
  },
  {
   "cell_type": "code",
   "execution_count": 1,
   "id": "d38720d3",
   "metadata": {},
   "outputs": [],
   "source": [
    "import numpy as np\n",
    "import pandas as pd\n",
    "import seaborn as sns\n",
    "from matplotlib import pyplot as plt\n",
    "%matplotlib inline\n",
    "sns.set_style(\"darkgrid\")"
   ]
  },
  {
   "cell_type": "code",
   "execution_count": null,
   "id": "b36794a8",
   "metadata": {},
   "outputs": [],
   "source": []
  }
 ],
 "metadata": {
  "kernelspec": {
   "display_name": "Python 3 (ipykernel)",
   "language": "python",
   "name": "python3"
  },
  "language_info": {
   "codemirror_mode": {
    "name": "ipython",
    "version": 3
   },
   "file_extension": ".py",
   "mimetype": "text/x-python",
   "name": "python",
   "nbconvert_exporter": "python",
   "pygments_lexer": "ipython3",
   "version": "3.9.13"
  }
 },
 "nbformat": 4,
 "nbformat_minor": 5
}
